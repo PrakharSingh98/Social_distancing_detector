{
 "cells": [
  {
   "cell_type": "markdown",
   "metadata": {},
   "source": [
    "## Social Distancing Detector using YOLO Algorithm"
   ]
  },
  {
   "cell_type": "code",
   "execution_count": 1,
   "metadata": {},
   "outputs": [],
   "source": [
    "import numpy as np\n",
    "import cv2\n",
    "import matplotlib.pyplot as plt\n",
    "from scipy.spatial import distance\n",
    "import winsound"
   ]
  },
  {
   "cell_type": "code",
   "execution_count": 2,
   "metadata": {},
   "outputs": [],
   "source": [
    "# Constants to be used in this code\n",
    "CONF_SCORE = 0.3\n",
    "THRESHOLD = 0.3\n",
    "MIN_DIST = 250"
   ]
  },
  {
   "cell_type": "code",
   "execution_count": 3,
   "metadata": {},
   "outputs": [],
   "source": [
    "def detect_people(frame,net,ln,pid):\n",
    "    # grab the dimensions of the frame and  initialize the list of\n",
    "    # results\n",
    "    (H, W) = frame.shape[:2]\n",
    "    results = []\n",
    "\n",
    "    # construct a blob from the input frame and then perform a forward\n",
    "    # pass of the YOLO object detector, giving us our bounding boxes\n",
    "    # and associated probabilities\n",
    "    blob = cv2.dnn.blobFromImage(frame, 1 / 255.0, (416, 416),swapRB=True, crop=False)\n",
    "    net.setInput(blob)\n",
    "    layerOutputs = net.forward(ln)\n",
    "\n",
    "    # initialize our lists of detected bounding boxes, centroids, and\n",
    "    # confidences, respectively\n",
    "    boxes = []\n",
    "    centroids = []\n",
    "    confidences = []\n",
    "\n",
    "    # loop over each of the layer outputs\n",
    "    for output in layerOutputs:\n",
    "        # loop over each of the detections\n",
    "        for detection in output:\n",
    "            # extract the class ID and confidence (i.e., probability)\n",
    "            # of the current object detection\n",
    "            scores = detection[5:]\n",
    "            classID = np.argmax(scores)\n",
    "            confidence = scores[classID]\n",
    "\n",
    "            # filter detections by (1) ensuring that the object\n",
    "            # detected was a person and (2) that the minimum\n",
    "            # confidence is met\n",
    "            if classID == pid and confidence > CONF_SCORE:\n",
    "                # scale the bounding box coordinates back relative to\n",
    "                # the size of the image, keeping in mind that YOLO\n",
    "                # actually returns the center (x, y)-coordinates of\n",
    "                # the bounding box followed by the boxes' width and\n",
    "                # height\n",
    "                box = detection[0:4] * np.array([W, H, W, H])\n",
    "                (centerX, centerY, width, height) = box.astype(\"int\")\n",
    "\n",
    "                # use the center (x, y)-coordinates to derive the top\n",
    "                # and and left corner of the bounding box\n",
    "                x = int(centerX - (width / 2))\n",
    "                y = int(centerY - (height / 2))\n",
    "\n",
    "                # update our list of bounding box coordinates,\n",
    "                # centroids, and confidences\n",
    "                boxes.append([x, y, int(width), int(height)])\n",
    "                centroids.append((centerX, centerY))\n",
    "                confidences.append(float(confidence))\n",
    "\n",
    "    # apply non-maxima suppression to suppress weak, overlapping\n",
    "    # bounding boxes\n",
    "    idxs = cv2.dnn.NMSBoxes(boxes, confidences, CONF_SCORE, THRESHOLD)\n",
    "\n",
    "    # ensure at least one detection exists\n",
    "    if len(idxs) > 0:\n",
    "        # loop over the indexes we are keeping\n",
    "        for i in idxs.flatten():\n",
    "            # extract the bounding box coordinates\n",
    "            (x, y) = (boxes[i][0], boxes[i][1])\n",
    "            (w, h) = (boxes[i][2], boxes[i][3])\n",
    "\n",
    "            # update our results list to consist of the person\n",
    "            # prediction probability, bounding box coordinates,\n",
    "            # and the centroid\n",
    "            r = (confidences[i], (x, y, x + w, y + h), centroids[i])\n",
    "            results.append(r)\n",
    "\n",
    "    # return the list of results\n",
    "    return results"
   ]
  },
  {
   "cell_type": "code",
   "execution_count": 4,
   "metadata": {},
   "outputs": [],
   "source": [
    "# LABELS consist of all 80 classes of coco dataset\n",
    "labelsPath = \"yolo-coco\\coco.names\"\n",
    "LABELS = open(labelsPath).read().strip().split(\"\\n\")"
   ]
  },
  {
   "cell_type": "code",
   "execution_count": 5,
   "metadata": {},
   "outputs": [],
   "source": [
    "wtpath = \"yolo-coco\\yolov3.weights\"\n",
    "cfgpath = \"yolo-coco\\yolov3.cfg\"\n",
    "# It reads the network in darknet form\n",
    "net = cv2.dnn.readNetFromDarknet(cfgpath, wtpath)"
   ]
  },
  {
   "cell_type": "code",
   "execution_count": 6,
   "metadata": {},
   "outputs": [
    {
     "data": {
      "text/plain": [
       "['yolo_82', 'yolo_94', 'yolo_106']"
      ]
     },
     "execution_count": 6,
     "metadata": {},
     "output_type": "execute_result"
    }
   ],
   "source": [
    "# YOLO architecture has 254 layers\n",
    "ln = net.getLayerNames() # It returns list of all layers by name\n",
    "# Out of 254 layers, we have to get layers from where output comes\n",
    "# In YOLO, output comes from 3 layers\n",
    "ln = [ln[i[0] - 1] for i in net.getUnconnectedOutLayers()]  # getUnconnectedOutLayers() returns output layers by index\n",
    "# We extract layer names from index\n",
    "ln"
   ]
  },
  {
   "cell_type": "code",
   "execution_count": 7,
   "metadata": {},
   "outputs": [],
   "source": [
    "cap = cv2.VideoCapture(0)"
   ]
  },
  {
   "cell_type": "code",
   "execution_count": 8,
   "metadata": {},
   "outputs": [],
   "source": [
    "while True:\n",
    "    _,frame = cap.read()\n",
    "    frame = cv2.resize(frame, (500,500))\n",
    "    pid = LABELS.index('person')\n",
    "    results = detect_people(frame,net,ln,pid)\n",
    "    voilate = set() # Initialise an empty set\n",
    "    if len(results) >= 2:\n",
    "        # Make sure there are atleast two persons in the frame\n",
    "        # Extract centroid from results and calculate distance between every pair of centroids\n",
    "        centroids = np.array([r[2] for r in results])\n",
    "        D = distance.cdist(centroids,centroids,metric='euclidean')\n",
    "        # D contains distance between each centroid with all other centroids\n",
    "        # It has redundant data ie. distance between x1,y1 and x2,y2 and also x2,y2 and x1,y1\n",
    "        # So we only loop through upper traingular part\n",
    "        for i in range(0,D.shape[0]):\n",
    "            for j in range(i+1,D.shape[1]):\n",
    "                # Check if the distance between pairs is less than minimum distance\n",
    "                if D[i][j] < MIN_DIST:\n",
    "                    # Update our voilation set with index of voilating centroids\n",
    "                    voilate.add(i)\n",
    "                    voilate.add(j)\n",
    "    # looping over the results\n",
    "    for (i, (prob, bbox, centroid)) in enumerate(results):\n",
    "        # extract the bounding box and centroid coordinates, then\n",
    "        # initialize the color of the annotation\n",
    "        (startX, startY, endX, endY) = bbox\n",
    "        (cX, cY) = centroid\n",
    "        color = (0, 255, 0)\n",
    "\n",
    "        # if the index pair exists within the violation set, then\n",
    "        # update the color\n",
    "        if i in voilate:\n",
    "            color = (0, 0, 255)\n",
    "\n",
    "        # draw (1) a bounding box around the person and (2) the\n",
    "        # centroid coordinates of the person,\n",
    "        cv2.rectangle(frame, (startX, startY), (endX, endY), color, 2)\n",
    "        cv2.circle(frame, (cX, cY), 5, color, 1)\n",
    "    text = \"Social Distancing Violations: {}\".format(len(voilate))\n",
    "    cv2.putText(frame, text, (10, frame.shape[0] - 25),\n",
    "        cv2.FONT_HERSHEY_SIMPLEX, 0.85, (0, 0, 255), 3)\n",
    "    if len(voilate)>0:\n",
    "        winsound.PlaySound('beep.wav', winsound.SND_FILENAME)\n",
    "    cv2.imshow(\"Frame\",frame)\n",
    "    key = cv2.waitKey(1) & 0xFF\n",
    "    if key == ord(\"q\"):\n",
    "        break\n",
    "cap.release()\n",
    "cv2.destroyAllWindows()"
   ]
  }
 ],
 "metadata": {
  "kernelspec": {
   "display_name": "Python 3",
   "language": "python",
   "name": "python3"
  },
  "language_info": {
   "codemirror_mode": {
    "name": "ipython",
    "version": 3
   },
   "file_extension": ".py",
   "mimetype": "text/x-python",
   "name": "python",
   "nbconvert_exporter": "python",
   "pygments_lexer": "ipython3",
   "version": "3.7.6"
  }
 },
 "nbformat": 4,
 "nbformat_minor": 4
}
